{
 "cells": [
  {
   "cell_type": "code",
   "execution_count": 7,
   "id": "266e8d06",
   "metadata": {},
   "outputs": [],
   "source": [
    "import dgllife.utils\n",
    "import dgl.data.utils\n",
    "import ML_100K_dataset"
   ]
  },
  {
   "cell_type": "code",
   "execution_count": 4,
   "id": "4c31d759",
   "metadata": {},
   "outputs": [
    {
     "name": "stderr",
     "output_type": "stream",
     "text": [
      "D:\\Dennis\\ust\\year3_fall_sem\\COMP4222\\gnn_ws\\lib\\site-packages\\spacy\\pipeline\\lemmatizer.py:211: UserWarning: [W108] The rule-based lemmatizer did not find POS annotation for one or more tokens. Check that your pipeline includes components that assign token.pos, typically 'tagger'+'attribute_ruler' or 'morphologizer'.\n",
      "  warnings.warn(Warnings.W108)\n"
     ]
    },
    {
     "name": "stdout",
     "output_type": "stream",
     "text": [
      "unknown cannot be matched, index=266, name=ML_100K\n"
     ]
    }
   ],
   "source": [
    "dataset = ML_100K_dataset.ML_100K()"
   ]
  },
  {
   "cell_type": "code",
   "execution_count": 5,
   "id": "993b2b3d",
   "metadata": {},
   "outputs": [],
   "source": [
    "graph = dataset[0]"
   ]
  },
  {
   "cell_type": "code",
   "execution_count": 9,
   "id": "db588364",
   "metadata": {},
   "outputs": [
    {
     "data": {
      "text/plain": [
       "False"
      ]
     },
     "execution_count": 9,
     "metadata": {},
     "output_type": "execute_result"
    }
   ],
   "source": [
    "graph.is_block"
   ]
  },
  {
   "cell_type": "code",
   "execution_count": 8,
   "id": "93e7c40c",
   "metadata": {},
   "outputs": [],
   "source": [
    "def split_train_valid_test(g):\n",
    "    g"
   ]
  },
  {
   "cell_type": "code",
   "execution_count": null,
   "id": "45bc1061",
   "metadata": {},
   "outputs": [],
   "source": [
    "class NeighborSampler(dgl.dataloading.Sampler):\n",
    "    def __init__(self, fanouts : list[int]):\n",
    "        super().__init__()\n",
    "        self.fanouts = fanouts\n",
    "\n",
    "    def sample(self, g, seed_nodes):\n",
    "        output_nodes = seed_nodes\n",
    "        subgs = []\n",
    "        for fanout in reversed(self.fanouts):\n",
    "            # Sample a fixed number of neighbors of the current seed nodes.\n",
    "            sg = g.sample_neighbors(seed_nodes, fanout)\n",
    "            # Convert this subgraph to a message flow graph.\n",
    "            sg = dgl.to_block(sg, seed_nodes)\n",
    "            seed_nodes = sg.srcdata[NID]\n",
    "            subgs.insert(0, sg)\n",
    "         input_nodes = seed_nodes\n",
    "         return input_nodes, output_nodes, subgs"
   ]
  }
 ],
 "metadata": {
  "kernelspec": {
   "display_name": "Python 3 (ipykernel)",
   "language": "python",
   "name": "python3"
  },
  "language_info": {
   "codemirror_mode": {
    "name": "ipython",
    "version": 3
   },
   "file_extension": ".py",
   "mimetype": "text/x-python",
   "name": "python",
   "nbconvert_exporter": "python",
   "pygments_lexer": "ipython3",
   "version": "3.9.10"
  }
 },
 "nbformat": 4,
 "nbformat_minor": 5
}
