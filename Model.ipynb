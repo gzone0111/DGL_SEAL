{
 "cells": [
  {
   "cell_type": "code",
   "execution_count": 2,
   "id": "8fb8966f",
   "metadata": {},
   "outputs": [],
   "source": [
    "from dgl.data import CiteseerGraphDataset "
   ]
  },
  {
   "cell_type": "code",
   "execution_count": 5,
   "id": "5e7aaa63",
   "metadata": {},
   "outputs": [
    {
     "name": "stdout",
     "output_type": "stream",
     "text": [
      "  NumNodes: 3327\n",
      "  NumEdges: 9228\n",
      "  NumFeats: 3703\n",
      "  NumClasses: 6\n",
      "  NumTrainingSamples: 120\n",
      "  NumValidationSamples: 500\n",
      "  NumTestSamples: 1000\n",
      "Done loading data from cached files.\n"
     ]
    }
   ],
   "source": [
    "g = CiteseerGraphDataset()[0]"
   ]
  },
  {
   "cell_type": "code",
   "execution_count": 11,
   "id": "a2fe750c",
   "metadata": {},
   "outputs": [
    {
     "data": {
      "text/plain": [
       "tensor([ True,  True,  True,  ..., False, False, False])"
      ]
     },
     "execution_count": 11,
     "metadata": {},
     "output_type": "execute_result"
    }
   ],
   "source": [
    "g.ndata['train_mask']"
   ]
  },
  {
   "cell_type": "code",
   "execution_count": 12,
   "id": "7d3e4df9",
   "metadata": {},
   "outputs": [
    {
     "data": {
      "text/plain": [
       "tensor([False, False, False,  ...,  True,  True,  True])"
      ]
     },
     "execution_count": 12,
     "metadata": {},
     "output_type": "execute_result"
    }
   ],
   "source": [
    "g.ndata['test_mask']"
   ]
  },
  {
   "cell_type": "code",
   "execution_count": null,
   "id": "93cb1dec",
   "metadata": {},
   "outputs": [],
   "source": []
  }
 ],
 "metadata": {
  "kernelspec": {
   "display_name": "Python 3 (ipykernel)",
   "language": "python",
   "name": "python3"
  },
  "language_info": {
   "codemirror_mode": {
    "name": "ipython",
    "version": 3
   },
   "file_extension": ".py",
   "mimetype": "text/x-python",
   "name": "python",
   "nbconvert_exporter": "python",
   "pygments_lexer": "ipython3",
   "version": "3.9.10"
  }
 },
 "nbformat": 4,
 "nbformat_minor": 5
}
